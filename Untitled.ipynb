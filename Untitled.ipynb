{
 "cells": [
  {
   "cell_type": "code",
   "execution_count": 1,
   "id": "ad52a79e-1cd6-4296-a53b-8c5c56a6d4eb",
   "metadata": {},
   "outputs": [],
   "source": [
    "import numpy as np\n",
    "import matplotlib.pyplot as plt\n",
    "from bapsflib import lapd\n",
    "from bapsfda.processing import get_board_props, SISRun\n",
    "import os"
   ]
  },
  {
   "cell_type": "code",
   "execution_count": 2,
   "id": "b3572450-1a8c-4c46-9761-8cb147d4eb0d",
   "metadata": {},
   "outputs": [
    {
     "name": "stdout",
     "output_type": "stream",
     "text": [
      "{'06': '06_xline_sweep_p20_3srep_125Vps_105Vpuff.hdf5', '07': '07_xline_sweep_p32_3srep_125Vps_105Vpuff.hdf5', '08': '08_xline_sweep_p43_3srep_125Vps_105Vpuff.hdf5', '09': '09_mach_cal_180_p20_3srep_125Vps_105Vpuff.hdf5', '10': '10_mach_cal_0_p20_3srep_125Vps_105Vpuff.hdf5', '11': '11_xline_mach_p20_3srep_125Vps_105Vpuff.hdf5', '12': '12_xline_mach_p20_3srep_125Vps_75Vpuff.hdf5', '13': '13_xline_sweep_p43_3srep_125Vps_75Vpuff.hdf5', '14': '14_xline_sweep_p32_3srep_125Vps_75Vpuff.hdf5', '15': '15_xline_sweep_p20_3srep_125Vps_75Vpuff.hdf5', '16': '16_xline_sweep_p20_3srep_125Vps_90Vpuff.hdf5', '17': '17_xline_sweep_p32_3srep_125Vps_90Vpuff.hdf5', '18': '18_xline_sweep_p43_3srep_125Vps_90Vpuff.hdf5', '19': '19_mach_cal_180_p20_3srep_125Vps_90Vpuff.hdf5', '20': '20_mach_cal_0_p20_3srep_125Vps_90Vpuff.hdf5', '21': '21_xline_mach_p20_3srep_125Vps_90Vpuff.hdf5', '22': '22_xline_Emissive_p38_3srep_125Vps_105Vpuff.hdf5', '23': '23_xline_Emissive_p38_3srep_125Vps_90Vpuff.hdf5', '24': '24_xline_Emissive_p38_3srep_125Vps_75Vpuff.hdf5', '25': '25_xline_sweep_p32_800G_150Vps_shortpuff.hdf5', '26': '26_xline_sweep_p32_800G_150Vps_longpuff.hdf5', '27': '27_xline_sweep_p32_800G_150Vps_longpuff_mirror.hdf5'}\n"
     ]
    }
   ],
   "source": [
    "data_path = \"./data/july2023/\"\n",
    "file_dict = {s[:2]: s for s in os.listdir(data_path)}\n",
    "print(file_dict)"
   ]
  },
  {
   "cell_type": "code",
   "execution_count": 3,
   "id": "a43229a5-9859-43c2-b06c-97a7e3a5da88",
   "metadata": {
    "scrolled": true
   },
   "outputs": [
    {
     "name": "stdout",
     "output_type": "stream",
     "text": [
      "Recording Langmuir sweeps and Isat on port 20, Unlucky #3 in x-line with 1cm point spacing x=[-30,30], 10 Shots per point. *3dB attenuator ADDED due to higher density*\n",
      "\n",
      "LAPD B field:\n",
      "========\n",
      "Black magnets at south: 760 A (PS12, 13),\n",
      "Yellow & Purple magnets: configured for uniform 1.5 kG\n",
      "Black magnets at north: 0 A (PS11)\n",
      "\n",
      "South LaB6 source:\n",
      "============\n",
      "He plasma , discharge PS voltage/current: 12V/7100A Control Room\n",
      "90-76 V cathode-anode voltage, 1/3 Hz rep rate \n",
      "Heater: 2006A\n",
      "Gas Puff (75 V on East and West, 28ms) Helium\n",
      "Minimum background pressure on pfieffer box (2.1e-5, 2.7e-5)\n",
      "\n",
      "Timing:\n",
      "=====\n",
      "Discharge Peried: 20 ms\n",
      "Breakdown time: 6 ms\n",
      "Sweep: Starting 0 ms, 96us ramp up, 28 cycles, 1ms pause\n",
      "DAQ trigger: 0 ms  \n",
      "\n",
      "Channels:\n",
      "======\n",
      "Board 1: \n",
      "Chan8: VAnode, G=1/40\n",
      "Board 3:\n",
      "Chan5: (UL3-LT) VSweep, G=1/100\n",
      "Chan6: (UL3-LT) ISweep, G=1.02, R=1\n",
      "Chan7: (UL3-LB) Isat, G=1.04, R=7.5\n",
      "Chan8: (UL3-RT) VFloat, G=1/40\n"
     ]
    }
   ],
   "source": [
    "with lapd.File(f\"{data_path}{file_dict['15']}\") as f:\n",
    "    f.run_description()"
   ]
  },
  {
   "cell_type": "code",
   "execution_count": 4,
   "id": "c87c6c44-3dea-401b-8f4e-66972dd6e70b",
   "metadata": {},
   "outputs": [
    {
     "name": "stdout",
     "output_type": "stream",
     "text": [
      "{'clock rate': <Quantity 100. MHz>, 'shot average (software)': None, 'sample average (hardware)': 64, 'bit': 16, 'nshotnum': 610, 'nt': 75776}\n",
      "{'clock rate': <Quantity 100. MHz>, 'shot average (software)': None, 'sample average (hardware)': 16, 'bit': 16, 'nshotnum': 610, 'nt': 249856}\n"
     ]
    }
   ],
   "source": [
    "run15 = SISRun(f\"{data_path}{file_dict['15']}\")"
   ]
  },
  {
   "cell_type": "code",
   "execution_count": 5,
   "id": "a24352d0-5c52-4f8c-a512-fb46e0233ce5",
   "metadata": {},
   "outputs": [],
   "source": [
    "run15.config_drive(\"fixed\", run15.num_shots, 1, 1, 1)\n",
    "run15.config_drive(\"xline\", 10, nx = 61)"
   ]
  },
  {
   "cell_type": "code",
   "execution_count": 6,
   "id": "6b6a51f9-42eb-401c-be2b-abf94fb28868",
   "metadata": {},
   "outputs": [
    {
     "data": {
      "text/plain": [
       "{'fixed': DriveProperties(shots_per_pos=610, ny=1, nx=1, nz=1),\n",
       " 'xline': DriveProperties(shots_per_pos=10, ny=1, nx=61, nz=1)}"
      ]
     },
     "execution_count": 6,
     "metadata": {},
     "output_type": "execute_result"
    }
   ],
   "source": [
    "run15.drives"
   ]
  },
  {
   "cell_type": "code",
   "execution_count": 7,
   "id": "069a8e3a-0cd9-428d-b7bb-6fe51bf354d2",
   "metadata": {},
   "outputs": [],
   "source": [
    "run15.rename_channel(\"b1_c8\", \"V_anode\")\n",
    "run15.rename_channel(\"b3_c5\", \"V_sweep\")\n",
    "run15.rename_channel(\"b3_c6\", \"I_sweep\")\n",
    "run15.rename_channel(\"b3_c7\", \"Isat\")\n",
    "run15.rename_channel(\"b3_c8\", \"V_float\")\n",
    "run15.set_drive_props(\"V_anode\", \"fixed\")\n",
    "run15.set_drive_props(\"V_sweep\", \"xline\")\n",
    "run15.set_drive_props(\"I_sweep\", \"xline\")\n",
    "run15.set_drive_props(\"Isat\", \"xline\")\n",
    "run15.set_drive_props(\"V_float\", \"xline\")\n",
    "run15.set_chan_props(\"V_anode\", gain = 1/40)\n",
    "run15.set_chan_props(\"V_sweep\", gain = 1/100)\n",
    "run15.set_chan_props(\"I_sweep\", gain = 1.02/np.sqrt(2), resistance=1)\n",
    "run15.set_chan_props(\"Isat\", gain = 1.04, resistance = 7.5)\n",
    "run15.set_chan_props(\"V_float\", gain = 1/40)"
   ]
  },
  {
   "cell_type": "code",
   "execution_count": 8,
   "id": "2c6a0b92-f91b-45db-bd1b-6524058415c0",
   "metadata": {},
   "outputs": [
    {
     "data": {
      "text/plain": [
       "{'V_anode': SISCrateChannel(crate_index=(1, 8), board_props='board_1', channel_props=ChannelProperties(gain=0.025, resistance=None, units=Unit(\"V\")), drive_props=DriveProperties(shots_per_pos=610, ny=1, nx=1, nz=1)),\n",
       " 'V_sweep': SISCrateChannel(crate_index=(3, 5), board_props='board_3', channel_props=ChannelProperties(gain=0.01, resistance=None, units=Unit(\"V\")), drive_props=DriveProperties(shots_per_pos=10, ny=1, nx=61, nz=1)),\n",
       " 'I_sweep': SISCrateChannel(crate_index=(3, 6), board_props='board_3', channel_props=ChannelProperties(gain=0.7212489168102785, resistance=1, units=Unit(\"A\")), drive_props=DriveProperties(shots_per_pos=10, ny=1, nx=61, nz=1)),\n",
       " 'Isat': SISCrateChannel(crate_index=(3, 7), board_props='board_3', channel_props=ChannelProperties(gain=1.04, resistance=7.5, units=Unit(\"A\")), drive_props=DriveProperties(shots_per_pos=10, ny=1, nx=61, nz=1)),\n",
       " 'V_float': SISCrateChannel(crate_index=(3, 8), board_props='board_3', channel_props=ChannelProperties(gain=0.025, resistance=None, units=Unit(\"V\")), drive_props=DriveProperties(shots_per_pos=10, ny=1, nx=61, nz=1))}"
      ]
     },
     "execution_count": 8,
     "metadata": {},
     "output_type": "execute_result"
    }
   ],
   "source": [
    "run15.channel_dict"
   ]
  },
  {
   "cell_type": "code",
   "execution_count": 32,
   "id": "8cf3c371-3249-4b59-a2a7-eaf7031c534a",
   "metadata": {},
   "outputs": [
    {
     "name": "stderr",
     "output_type": "stream",
     "text": [
      "C:\\Users\\trloo\\miniforge3\\envs\\test_bapsfda\\Lib\\site-packages\\bapsflib\\_hdf\\utils\\hdfreaddata.py:220: UserWarning: Digitizer not specified so assuming the 'main_digitizer' (SIS crate) defined in the mappings.\n",
      "  warn(why)\n",
      "C:\\Users\\trloo\\miniforge3\\envs\\test_bapsfda\\Lib\\site-packages\\bapsflib\\_hdf\\maps\\digitizers\\siscrate.py:918: UserWarning: `config_name` not specified, assuming 'LangmuirSweeps'.\n",
      "  warn(f\"`config_name` not specified, assuming '{config_name}'.\")\n",
      "C:\\Users\\trloo\\miniforge3\\envs\\test_bapsfda\\Lib\\site-packages\\bapsflib\\_hdf\\maps\\digitizers\\siscrate.py:941: UserWarning: No `adc` specified, but only one adc used...assuming adc 'SIS 3302'\n",
      "  warn(\n",
      "C:\\Users\\trloo\\miniforge3\\envs\\test_bapsfda\\Lib\\site-packages\\bapsflib\\_hdf\\utils\\hdfreaddata.py:508: FutureWarning: Passing (type, 1) or '1type' as a synonym of type is deprecated; in a future version of numpy, it will be understood as (type, (1,)) / '(1,)type'.\n",
      "  data = np.empty(shape, dtype=dtype)\n",
      "C:\\Users\\trloo\\miniforge3\\envs\\test_bapsfda\\Lib\\site-packages\\bapsflib\\_hdf\\utils\\hdfreaddata.py:220: UserWarning: Digitizer not specified so assuming the 'main_digitizer' (SIS crate) defined in the mappings.\n",
      "  warn(why)\n",
      "C:\\Users\\trloo\\miniforge3\\envs\\test_bapsfda\\Lib\\site-packages\\bapsflib\\_hdf\\maps\\digitizers\\siscrate.py:918: UserWarning: `config_name` not specified, assuming 'LangmuirSweeps'.\n",
      "  warn(f\"`config_name` not specified, assuming '{config_name}'.\")\n",
      "C:\\Users\\trloo\\miniforge3\\envs\\test_bapsfda\\Lib\\site-packages\\bapsflib\\_hdf\\maps\\digitizers\\siscrate.py:941: UserWarning: No `adc` specified, but only one adc used...assuming adc 'SIS 3302'\n",
      "  warn(\n",
      "C:\\Users\\trloo\\miniforge3\\envs\\test_bapsfda\\Lib\\site-packages\\bapsflib\\_hdf\\utils\\hdfreaddata.py:508: FutureWarning: Passing (type, 1) or '1type' as a synonym of type is deprecated; in a future version of numpy, it will be understood as (type, (1,)) / '(1,)type'.\n",
      "  data = np.empty(shape, dtype=dtype)\n"
     ]
    }
   ],
   "source": [
    "t_array = run15.board_props[\"board_3\"].time_array\n",
    "vsweep = run15.extract_signal(\"V_sweep\")\n",
    "isweep = run15.extract_signal(\"I_sweep\")"
   ]
  },
  {
   "cell_type": "code",
   "execution_count": 38,
   "id": "85aead1f-c4a4-4e98-bda0-4180023933b4",
   "metadata": {},
   "outputs": [
    {
     "data": {
      "text/plain": [
       "True"
      ]
     },
     "execution_count": 38,
     "metadata": {},
     "output_type": "execute_result"
    }
   ],
   "source": [
    "t_array.shape[-1] == vsweep.shape[-1]"
   ]
  },
  {
   "cell_type": "code",
   "execution_count": 36,
   "id": "710cc3b8-66f8-44ab-9f56-385f4658fe16",
   "metadata": {},
   "outputs": [
    {
     "data": {
      "text/plain": [
       "(249856,)"
      ]
     },
     "execution_count": 36,
     "metadata": {},
     "output_type": "execute_result"
    }
   ],
   "source": [
    "t_array.shape"
   ]
  },
  {
   "cell_type": "code",
   "execution_count": null,
   "id": "323cfcda-783d-4403-b20e-eb092c676bce",
   "metadata": {},
   "outputs": [],
   "source": []
  }
 ],
 "metadata": {
  "kernelspec": {
   "display_name": "Python 3 (ipykernel)",
   "language": "python",
   "name": "python3"
  },
  "language_info": {
   "codemirror_mode": {
    "name": "ipython",
    "version": 3
   },
   "file_extension": ".py",
   "mimetype": "text/x-python",
   "name": "python",
   "nbconvert_exporter": "python",
   "pygments_lexer": "ipython3",
   "version": "3.11.6"
  }
 },
 "nbformat": 4,
 "nbformat_minor": 5
}
