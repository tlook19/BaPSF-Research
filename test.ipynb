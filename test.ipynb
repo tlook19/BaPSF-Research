{
 "cells": [
  {
   "cell_type": "code",
   "execution_count": 72,
   "id": "ad52a79e-1cd6-4296-a53b-8c5c56a6d4eb",
   "metadata": {},
   "outputs": [],
   "source": [
    "import numpy as np\n",
    "import matplotlib.pyplot as plt\n",
    "from bapsflib import lapd\n",
    "from bapsfda.processing import get_board_props, SISRun\n",
    "from bapsfda.diagnostics import LangmuirSweep\n",
    "from bapsfda.diagnostics._interferometer import Interferometer\n",
    "from bapsfda.processing import sav_smooth, butt_low\n",
    "from bapsfda.processing import sgaussian_half, expfit\n",
    "from scipy.optimize import curve_fit\n",
    "import astropy.units as u\n",
    "import os"
   ]
  },
  {
   "cell_type": "code",
   "execution_count": 2,
   "id": "b3572450-1a8c-4c46-9761-8cb147d4eb0d",
   "metadata": {},
   "outputs": [
    {
     "name": "stdout",
     "output_type": "stream",
     "text": [
      "{'06': '06_xline_sweep_p20_3srep_125Vps_105Vpuff.hdf5', '07': '07_xline_sweep_p32_3srep_125Vps_105Vpuff.hdf5', '08': '08_xline_sweep_p43_3srep_125Vps_105Vpuff.hdf5', '09': '09_mach_cal_180_p20_3srep_125Vps_105Vpuff.hdf5', '10': '10_mach_cal_0_p20_3srep_125Vps_105Vpuff.hdf5', '11': '11_xline_mach_p20_3srep_125Vps_105Vpuff.hdf5', '12': '12_xline_mach_p20_3srep_125Vps_75Vpuff.hdf5', '13': '13_xline_sweep_p43_3srep_125Vps_75Vpuff.hdf5', '14': '14_xline_sweep_p32_3srep_125Vps_75Vpuff.hdf5', '15': '15_xline_sweep_p20_3srep_125Vps_75Vpuff.hdf5', '16': '16_xline_sweep_p20_3srep_125Vps_90Vpuff.hdf5', '17': '17_xline_sweep_p32_3srep_125Vps_90Vpuff.hdf5', '18': '18_xline_sweep_p43_3srep_125Vps_90Vpuff.hdf5', '19': '19_mach_cal_180_p20_3srep_125Vps_90Vpuff.hdf5', '20': '20_mach_cal_0_p20_3srep_125Vps_90Vpuff.hdf5', '21': '21_xline_mach_p20_3srep_125Vps_90Vpuff.hdf5', '22': '22_xline_Emissive_p38_3srep_125Vps_105Vpuff.hdf5', '23': '23_xline_Emissive_p38_3srep_125Vps_90Vpuff.hdf5', '24': '24_xline_Emissive_p38_3srep_125Vps_75Vpuff.hdf5', '25': '25_xline_sweep_p32_800G_150Vps_shortpuff.hdf5', '26': '26_xline_sweep_p32_800G_150Vps_longpuff.hdf5', '27': '27_xline_sweep_p32_800G_150Vps_longpuff_mirror.hdf5'}\n"
     ]
    }
   ],
   "source": [
    "data_path = \"./data/july2023/\"\n",
    "file_dict = {s[:2]: s for s in os.listdir(data_path)}\n",
    "print(file_dict)"
   ]
  },
  {
   "cell_type": "code",
   "execution_count": 3,
   "id": "a43229a5-9859-43c2-b06c-97a7e3a5da88",
   "metadata": {
    "scrolled": true
   },
   "outputs": [
    {
     "name": "stdout",
     "output_type": "stream",
     "text": [
      "Recording Langmuir sweeps and Isat on port 20, Unlucky #3 in x-line with 1cm point spacing x=[-30,30], 10 Shots per point. *3dB attenuator ADDED due to higher density*\n",
      "\n",
      "LAPD B field:\n",
      "========\n",
      "Black magnets at south: 760 A (PS12, 13),\n",
      "Yellow & Purple magnets: configured for uniform 1.5 kG\n",
      "Black magnets at north: 0 A (PS11)\n",
      "\n",
      "South LaB6 source:\n",
      "============\n",
      "He plasma , discharge PS voltage/current: 12V/7100A Control Room\n",
      "90-76 V cathode-anode voltage, 1/3 Hz rep rate \n",
      "Heater: 2006A\n",
      "Gas Puff (75 V on East and West, 28ms) Helium\n",
      "Minimum background pressure on pfieffer box (2.1e-5, 2.7e-5)\n",
      "\n",
      "Timing:\n",
      "=====\n",
      "Discharge Peried: 20 ms\n",
      "Breakdown time: 6 ms\n",
      "Sweep: Starting 0 ms, 96us ramp up, 28 cycles, 1ms pause\n",
      "DAQ trigger: 0 ms  \n",
      "\n",
      "Channels:\n",
      "======\n",
      "Board 1: \n",
      "Chan8: VAnode, G=1/40\n",
      "Board 3:\n",
      "Chan5: (UL3-LT) VSweep, G=1/100\n",
      "Chan6: (UL3-LT) ISweep, G=1.02, R=1\n",
      "Chan7: (UL3-LB) Isat, G=1.04, R=7.5\n",
      "Chan8: (UL3-RT) VFloat, G=1/40\n"
     ]
    }
   ],
   "source": [
    "with lapd.File(f\"{data_path}{file_dict['15']}\") as f:\n",
    "    f.run_description()"
   ]
  },
  {
   "cell_type": "code",
   "execution_count": 4,
   "id": "c87c6c44-3dea-401b-8f4e-66972dd6e70b",
   "metadata": {},
   "outputs": [
    {
     "name": "stdout",
     "output_type": "stream",
     "text": [
      "{'clock rate': <Quantity 100. MHz>, 'shot average (software)': None, 'sample average (hardware)': 64, 'bit': 16, 'nshotnum': 610, 'nt': 75776}\n",
      "{'clock rate': <Quantity 100. MHz>, 'shot average (software)': None, 'sample average (hardware)': 16, 'bit': 16, 'nshotnum': 610, 'nt': 249856}\n"
     ]
    }
   ],
   "source": [
    "run15 = SISRun(f\"{data_path}{file_dict['15']}\")"
   ]
  },
  {
   "cell_type": "code",
   "execution_count": 5,
   "id": "a24352d0-5c52-4f8c-a512-fb46e0233ce5",
   "metadata": {},
   "outputs": [],
   "source": [
    "run15.config_drive(\"fixed\", run15.num_shots, 1, 1, 1)\n",
    "run15.config_drive(\"xline\", 10, nx = 61)"
   ]
  },
  {
   "cell_type": "code",
   "execution_count": 6,
   "id": "6b6a51f9-42eb-401c-be2b-abf94fb28868",
   "metadata": {},
   "outputs": [
    {
     "data": {
      "text/plain": [
       "{'fixed': DriveProperties(shots_per_pos=610, ny=1, nx=1, nz=1),\n",
       " 'xline': DriveProperties(shots_per_pos=10, ny=1, nx=61, nz=1)}"
      ]
     },
     "execution_count": 6,
     "metadata": {},
     "output_type": "execute_result"
    }
   ],
   "source": [
    "run15.drives"
   ]
  },
  {
   "cell_type": "code",
   "execution_count": 7,
   "id": "069a8e3a-0cd9-428d-b7bb-6fe51bf354d2",
   "metadata": {},
   "outputs": [],
   "source": [
    "run15.rename_channel(\"b1_c8\", \"V_anode\")\n",
    "run15.rename_channel(\"b3_c5\", \"V_sweep\")\n",
    "run15.rename_channel(\"b3_c6\", \"I_sweep\")\n",
    "run15.rename_channel(\"b3_c7\", \"Isat\")\n",
    "run15.rename_channel(\"b3_c8\", \"V_float\")\n",
    "run15.set_drive_props(\"V_anode\", \"fixed\")\n",
    "run15.set_drive_props(\"V_sweep\", \"xline\")\n",
    "run15.set_drive_props(\"I_sweep\", \"xline\")\n",
    "run15.set_drive_props(\"Isat\", \"xline\")\n",
    "run15.set_drive_props(\"V_float\", \"xline\")\n",
    "run15.set_chan_props(\"V_anode\", gain = 1/40)\n",
    "run15.set_chan_props(\"V_sweep\", gain = 1/100)\n",
    "run15.set_chan_props(\"I_sweep\", gain = 1.02/np.sqrt(2), resistance=1)\n",
    "run15.set_chan_props(\"Isat\", gain = 1.04, resistance = 7.5)\n",
    "run15.set_chan_props(\"V_float\", gain = 1/40)"
   ]
  },
  {
   "cell_type": "code",
   "execution_count": 8,
   "id": "2c6a0b92-f91b-45db-bd1b-6524058415c0",
   "metadata": {},
   "outputs": [
    {
     "data": {
      "text/plain": [
       "{'V_anode': SISCrateChannel(crate_index=(1, 8), board_props='board_1', channel_props=ChannelProperties(gain=0.025, resistance=None, units=Unit(\"V\")), drive_props=DriveProperties(shots_per_pos=610, ny=1, nx=1, nz=1)),\n",
       " 'V_sweep': SISCrateChannel(crate_index=(3, 5), board_props='board_3', channel_props=ChannelProperties(gain=0.01, resistance=None, units=Unit(\"V\")), drive_props=DriveProperties(shots_per_pos=10, ny=1, nx=61, nz=1)),\n",
       " 'I_sweep': SISCrateChannel(crate_index=(3, 6), board_props='board_3', channel_props=ChannelProperties(gain=0.7212489168102785, resistance=1, units=Unit(\"A\")), drive_props=DriveProperties(shots_per_pos=10, ny=1, nx=61, nz=1)),\n",
       " 'Isat': SISCrateChannel(crate_index=(3, 7), board_props='board_3', channel_props=ChannelProperties(gain=1.04, resistance=7.5, units=Unit(\"A\")), drive_props=DriveProperties(shots_per_pos=10, ny=1, nx=61, nz=1)),\n",
       " 'V_float': SISCrateChannel(crate_index=(3, 8), board_props='board_3', channel_props=ChannelProperties(gain=0.025, resistance=None, units=Unit(\"V\")), drive_props=DriveProperties(shots_per_pos=10, ny=1, nx=61, nz=1))}"
      ]
     },
     "execution_count": 8,
     "metadata": {},
     "output_type": "execute_result"
    }
   ],
   "source": [
    "run15.channel_dict"
   ]
  },
  {
   "cell_type": "code",
   "execution_count": 9,
   "id": "8cf3c371-3249-4b59-a2a7-eaf7031c534a",
   "metadata": {},
   "outputs": [],
   "source": [
    "t_array = run15.board_props[\"board_3\"].time_array\n",
    "vsweep = run15.extract_signal(\"V_sweep\")\n",
    "isweep = run15.extract_signal(\"I_sweep\")"
   ]
  },
  {
   "cell_type": "code",
   "execution_count": 10,
   "id": "6c972a86-c6f3-4119-bf16-ee8ff87dc01b",
   "metadata": {},
   "outputs": [],
   "source": [
    "isat = run15.extract_signal(\"Isat\")\n",
    "isat = np.mean(isat.reshape(61,10,249856), axis = 1)\n",
    "isat = np.moveaxis(np.moveaxis(isat, 0, 1) - np.mean(isat[:,-2000:-1],axis =-1), 0, 1)\n",
    "freq = (1/isat.dt).to(u.Hz).value\n",
    "isat = butt_low(isat, 10e3, freq)\n",
    "ismooth = sav_smooth(isat, b = 60, axis=-1)"
   ]
  },
  {
   "cell_type": "code",
   "execution_count": 11,
   "id": "ce9ca131-91cf-4777-9acd-03cc7e140877",
   "metadata": {},
   "outputs": [
    {
     "data": {
      "text/plain": [
       "[<matplotlib.lines.Line2D at 0x20cd39b9190>]"
      ]
     },
     "execution_count": 11,
     "metadata": {},
     "output_type": "execute_result"
    },
    {
     "data": {
      "image/png": "[encoded data removed]",
      "text/plain": [
       "<Figure size 640x480 with 1 Axes>"
      ]
     },
     "metadata": {},
     "output_type": "display_data"
    }
   ],
   "source": [
    "plt.plot(t_array, isat[30])\n",
    "plt.plot(t_array, ismooth[30])"
   ]
  },
  {
   "cell_type": "code",
   "execution_count": 12,
   "id": "323cfcda-783d-4403-b20e-eb092c676bce",
   "metadata": {},
   "outputs": [],
   "source": [
    "sweep_args = (0 * u.ms, 100 * u.us, 1 * u.ms, .96, 28)\n",
    "sweeper = LangmuirSweep(*sweep_args)"
   ]
  },
  {
   "cell_type": "code",
   "execution_count": 13,
   "id": "45f8702f-535a-42c5-9127-c8ec8cdd58af",
   "metadata": {},
   "outputs": [
    {
     "name": "stdout",
     "output_type": "stream",
     "text": [
      "50 500 6250\n",
      "[ 0.  1.  2.  3.  4.  5.  6.  7.  8.  9. 10. 11. 12. 13. 14. 15. 16. 17.\n",
      " 18. 19. 20. 21. 22. 23. 24. 25. 26. 27.] ms\n",
      "(610, 28, 500)\n",
      "(610, 28, 500)\n"
     ]
    }
   ],
   "source": [
    "v_slices, i_slices, ramp_times = sweeper.slice_sweeps(isweep, vsweep, t_array)"
   ]
  },
  {
   "cell_type": "code",
   "execution_count": 14,
   "id": "aeb246fa-8671-460f-83da-c86f0a52411a",
   "metadata": {},
   "outputs": [
    {
     "data": {
      "text/plain": [
       "(61, 249856)"
      ]
     },
     "execution_count": 14,
     "metadata": {},
     "output_type": "execute_result"
    }
   ],
   "source": [
    "ismooth.shape"
   ]
  },
  {
   "cell_type": "code",
   "execution_count": 15,
   "id": "e00bde54-7bfa-4112-a25b-30ef01c7c621",
   "metadata": {},
   "outputs": [],
   "source": [
    "r_indices = [int(a) for a in ramp_times.to(u.s).value*freq]"
   ]
  },
  {
   "cell_type": "code",
   "execution_count": 16,
   "id": "d537181a-c78f-4985-acf6-829048059a90",
   "metadata": {},
   "outputs": [],
   "source": [
    "isats = np.empty((61,28))\n",
    "for i in range(61):\n",
    "    for j in range(28):\n",
    "        isats[i,j] = ismooth[i,r_indices[j]]"
   ]
  },
  {
   "cell_type": "code",
   "execution_count": 17,
   "id": "065aa840-dee8-4f40-939d-26a9f3c3332c",
   "metadata": {},
   "outputs": [
    {
     "name": "stderr",
     "output_type": "stream",
     "text": [
      "C:\\Users\\trloo\\pythongits\\BaPSF-Research\\bapsfda\\processing\\_fitfuncs.py:40: RuntimeWarning: overflow encountered in exp\n",
      "  return abs(amp) * np.exp(-abs(t - mean) / (np.sqrt(2) * std))\n"
     ]
    }
   ],
   "source": [
    "pp = sweeper.analyze_sweeps(v_slices, i_slices)"
   ]
  },
  {
   "cell_type": "code",
   "execution_count": 132,
   "id": "a74f9fef-74d6-41f9-8e41-34c020ce8230",
   "metadata": {},
   "outputs": [],
   "source": [
    "xpos = ((np.arange(61)-30)/100)*u.cm\n",
    "nish = (isats*u.A)/np.sqrt((pp[:,:,1]*u.eV).to(u.J))\n",
    "nlid = np.trapz(nish, xpos, axis=0)"
   ]
  },
  {
   "cell_type": "code",
   "execution_count": 133,
   "id": "226f59f1-7bff-4531-882c-6decba641f48",
   "metadata": {},
   "outputs": [
    {
     "data": {
      "text/plain": [
       "[<matplotlib.lines.Line2D at 0x20d25ce5fd0>]"
      ]
     },
     "execution_count": 133,
     "metadata": {},
     "output_type": "execute_result"
    },
    {
     "data": {
      "image/png": "[encoded data removed]",
      "text/plain": [
       "<Figure size 640x480 with 1 Axes>"
      ]
     },
     "metadata": {},
     "output_type": "display_data"
    }
   ],
   "source": [
    "plt.plot(ramp_times, nlid)"
   ]
  },
  {
   "cell_type": "code",
   "execution_count": 135,
   "id": "3571ce0a-c621-4898-b521-8570a825e54f",
   "metadata": {},
   "outputs": [
    {
     "data": {
      "text/latex": [
       "$\\mathrm{\\frac{A\\,cm}{J^{1/2}}}$"
      ],
      "text/plain": [
       "Unit(\"A cm / J(1/2)\")"
      ]
     },
     "execution_count": 135,
     "metadata": {},
     "output_type": "execute_result"
    }
   ],
   "source": [
    "nlid.unit"
   ]
  },
  {
   "cell_type": "code",
   "execution_count": 29,
   "id": "4232bf91-337b-438d-b5cd-74e37fe29dea",
   "metadata": {},
   "outputs": [],
   "source": [
    "with lapd.File(f\"{data_path}{file_dict['15']}\") as f:\n",
    "    msi_int = f.read_msi(\"Interferometer array\")"
   ]
  },
  {
   "cell_type": "code",
   "execution_count": 70,
   "id": "90a99130-01aa-44e9-9b79-4ee95d690ef0",
   "metadata": {},
   "outputs": [
    {
     "data": {
      "text/plain": [
       "HDFReadMSI([(  0, [[-3.19700157e-05, -3.51670198e-04,  2.87730159e-04, ..., -3.19700157e-05, -3.19700157e-05, -3.19700157e-05], [ 5.67481434e-03,  8.95713642e-02, -6.18850533e-03, ...,  2.09284291e-01,  1.48839101e-01,  2.32762396e-01]], [(3.77329653e+09, 1, 3.7085220e+09), (3.77329653e+09, 1, 6.4268696e+12)]),\n",
       "            (611, [[ 3.51670198e-04,  3.19700157e-05,  3.19700157e-05, ...,  3.19700157e-05,  3.51670198e-04,  3.19700157e-05], [ 1.08021591e-02, -7.45766237e-02,  1.91149544e-02, ...,  2.33002275e-01,  3.15005809e-01,  2.44873106e-01]], [(3.77329857e+09, 1, 6.5218836e+09), (3.77329857e+09, 1, 6.4641879e+12)])],\n",
       "           dtype=[('shotnum', '<i4'), ('signal', '<f4', (2, 4096)), ('meta', [('timestamp', '<f8'), ('data valid', 'i1'), ('peak density', '<f4')], (2,))])"
      ]
     },
     "execution_count": 70,
     "metadata": {},
     "output_type": "execute_result"
    }
   ],
   "source": [
    "msi_int"
   ]
  },
  {
   "cell_type": "code",
   "execution_count": 66,
   "id": "88c29f2e-a8af-4b8f-9488-08fd50986690",
   "metadata": {},
   "outputs": [
    {
     "data": {
      "text/plain": [
       "array([(3.77329653e+09, 1, 3.7085220e+09),\n",
       "       (3.77329653e+09, 1, 6.4268696e+12)],\n",
       "      dtype=[('timestamp', '<f8'), ('data valid', 'i1'), ('peak density', '<f4')])"
      ]
     },
     "execution_count": 66,
     "metadata": {},
     "output_type": "execute_result"
    }
   ],
   "source": [
    "msi_int[0][2]"
   ]
  },
  {
   "cell_type": "code",
   "execution_count": 69,
   "id": "bd442674-cb53-47c8-be44-eea8cbd5191e",
   "metadata": {},
   "outputs": [
    {
     "name": "stdout",
     "output_type": "stream",
     "text": [
      "array([(3.77329653e+09, 1, 3.7085220e+09),\n",
      "       (3.77329653e+09, 1, 6.4268696e+12)],\n",
      "      dtype=[('timestamp', '<f8'), ('data valid', 'i1'), ('peak density', '<f4')])\n",
      "(3.77329653e+09, 1, 6.4268696e+12)\n",
      "array([(3.77329857e+09, 1, 6.5218836e+09),\n",
      "       (3.77329857e+09, 1, 6.4641879e+12)],\n",
      "      dtype=[('timestamp', '<f8'), ('data valid', 'i1'), ('peak density', '<f4')])\n",
      "(3.77329857e+09, 1, 6.464188e+12)\n"
     ]
    }
   ],
   "source": [
    "print(msi_int[0][2].__repr__())\n",
    "print(msi_int[0][2][1])\n",
    "print(msi_int[1][2].__repr__())\n",
    "print(msi_int[1][2][1])"
   ]
  },
  {
   "cell_type": "code",
   "execution_count": 76,
   "id": "31516e9a-429d-41f9-8d54-22ceb1150cf3",
   "metadata": {},
   "outputs": [],
   "source": [
    "interf = Interferometer(288e9, 2)\n",
    "cal = interf._inter_params[\"cal_factor\"]\n",
    "avgint = (msi_int[1][1][1]+msi_int[0][1][1])*cal/2\n",
    "smint = sav_smooth(avgint, b=40, axis=-1)"
   ]
  },
  {
   "cell_type": "code",
   "execution_count": 84,
   "id": "6e398bec-9493-494e-81b5-fa78e96ab461",
   "metadata": {},
   "outputs": [],
   "source": [
    "t_int = np.round(((np.arange(4096)-409.6)*2.442e-5)*1e3,2)"
   ]
  },
  {
   "cell_type": "code",
   "execution_count": 109,
   "id": "7b0fcdbd-307e-4285-8c00-ca9eb4438155",
   "metadata": {},
   "outputs": [],
   "source": [
    "t_int_ramp_ind = np.arange(28)*41 + 410"
   ]
  },
  {
   "cell_type": "code",
   "execution_count": 114,
   "id": "8894404d-ccd3-419d-840b-2c38e6294d95",
   "metadata": {},
   "outputs": [],
   "source": [
    "fact = smint[t_int_ramp_ind]/nlid"
   ]
  },
  {
   "cell_type": "code",
   "execution_count": 115,
   "id": "1985e91d-cc3e-4fc9-8da5-2cf6189f5682",
   "metadata": {},
   "outputs": [
    {
     "data": {
      "text/plain": [
       "array([6.01088501e+21, 9.70838249e+19, 1.42467174e+20, 1.52959749e+20,\n",
       "       1.52753459e+20, 1.51833043e+20, 1.49417973e+20, 1.46732054e+20,\n",
       "       1.45584006e+20, 1.43638489e+20, 1.40110811e+20, 1.39572820e+20,\n",
       "       1.36605019e+20, 1.32918457e+20, 1.30213375e+20, 1.28119893e+20,\n",
       "       1.24532061e+20, 1.23055506e+20, 1.20408406e+20, 1.18008936e+20,\n",
       "       1.01211325e+20, 1.60113313e+20, 2.64089905e+20, 3.94852098e+20,\n",
       "       3.54078223e+20, 2.91909141e+20, 3.34568664e+20, 3.96879704e+20])"
      ]
     },
     "execution_count": 115,
     "metadata": {},
     "output_type": "execute_result"
    }
   ],
   "source": [
    "fact"
   ]
  },
  {
   "cell_type": "code",
   "execution_count": 119,
   "id": "2d762e71-ee76-4d86-bc32-e590fd8b5ae3",
   "metadata": {},
   "outputs": [],
   "source": [
    "c = np.mean(fact[3:20])"
   ]
  },
  {
   "cell_type": "code",
   "execution_count": 120,
   "id": "7b58b96a-a50b-4b19-b9af-4dfefaa8e454",
   "metadata": {},
   "outputs": [
    {
     "data": {
      "text/plain": [
       "[<matplotlib.lines.Line2D at 0x20d24830f10>]"
      ]
     },
     "execution_count": 120,
     "metadata": {},
     "output_type": "execute_result"
    },
    {
     "data": {
      "image/png": "[encoded data removed]",
      "text/plain": [
       "<Figure size 640x480 with 1 Axes>"
      ]
     },
     "metadata": {},
     "output_type": "display_data"
    }
   ],
   "source": [
    "plt.plot(t_int[t_int_ramp_ind], smint[t_int_ramp_ind])\n",
    "plt.plot(ramp_times, nlid*c)"
   ]
  },
  {
   "cell_type": "code",
   "execution_count": 108,
   "id": "0d2f1583-3151-4524-8391-6f5e41b7be5c",
   "metadata": {},
   "outputs": [
    {
     "name": "stdout",
     "output_type": "stream",
     "text": [
      "0 410 0.01\n",
      "1 451 1.01\n",
      "2 492 2.01\n",
      "3 533 3.01\n",
      "4 574 4.01\n",
      "5 615 5.02\n",
      "6 656 6.02\n",
      "7 697 7.02\n",
      "8 738 8.02\n",
      "9 779 9.02\n",
      "10 820 10.02\n",
      "11 861 11.02\n",
      "12 902 12.02\n",
      "13 943 13.03\n",
      "14 984 14.03\n",
      "15 1025 15.03\n",
      "16 1066 16.03\n",
      "17 1107 17.03\n",
      "18 1148 18.03\n",
      "19 1189 19.03\n",
      "20 1230 20.03\n",
      "21 1271 21.04\n",
      "22 1312 22.04\n",
      "23 1353 23.04\n",
      "24 1394 24.04\n",
      "25 1435 25.04\n",
      "26 1476 26.04\n",
      "27 1517 27.04\n"
     ]
    }
   ],
   "source": [
    "for i, t in enumerate(t_int[410:410*4-82:41]):\n",
    "    print(i,i*41+410,t)"
   ]
  },
  {
   "cell_type": "code",
   "execution_count": 82,
   "id": "5e82a459-75a6-4a52-a704-247afc329cec",
   "metadata": {},
   "outputs": [
    {
     "data": {
      "text/plain": [
       "[<matplotlib.lines.Line2D at 0x20cfde73f50>]"
      ]
     },
     "execution_count": 82,
     "metadata": {},
     "output_type": "execute_result"
    },
    {
     "data": {
      "image/png": "[encoded data removed]",
      "text/plain": [
       "<Figure size 640x480 with 1 Axes>"
      ]
     },
     "metadata": {},
     "output_type": "display_data"
    }
   ],
   "source": [
    "plt.plot(t_int, msi_int[1][1][1]*cal)\n",
    "plt.plot(t_int, msi_int[0][1][1]*cal)\n",
    "plt.plot(t_int, smint)"
   ]
  },
  {
   "cell_type": "code",
   "execution_count": 53,
   "id": "299b6949-6f99-4bca-b62e-21f73675fa4b",
   "metadata": {},
   "outputs": [
    {
     "data": {
      "text/plain": [
       "array([3.5167020e-04, 3.1970016e-05, 3.1970016e-05, ..., 3.1970016e-05,\n",
       "       3.5167020e-04, 3.1970016e-05], dtype=float32)"
      ]
     },
     "execution_count": 53,
     "metadata": {},
     "output_type": "execute_result"
    }
   ],
   "source": [
    "msi_int[1][1][0]"
   ]
  },
  {
   "cell_type": "code",
   "execution_count": 123,
   "id": "e1c5056b-c077-446e-9059-b86d68244b5b",
   "metadata": {},
   "outputs": [],
   "source": [
    "from astropy.constants import e"
   ]
  },
  {
   "cell_type": "code",
   "execution_count": 128,
   "id": "ee5374b7-9128-4383-a4d9-8c7dcd078aa4",
   "metadata": {},
   "outputs": [
    {
     "data": {
      "text/latex": [
       "$1.6021766 \\times 10^{-19} \\; \\mathrm{J}$"
      ],
      "text/plain": [
       "<Quantity 1.60217663e-19 J>"
      ]
     },
     "execution_count": 128,
     "metadata": {},
     "output_type": "execute_result"
    }
   ],
   "source": [
    "(1 * u.eV).to(u.J)"
   ]
  },
  {
   "cell_type": "code",
   "execution_count": null,
   "id": "13957506-9c1a-49d3-9897-177934d29519",
   "metadata": {},
   "outputs": [],
   "source": []
  }
 ],
 "metadata": {
  "kernelspec": {
   "display_name": "Python 3 (ipykernel)",
   "language": "python",
   "name": "python3"
  },
  "language_info": {
   "codemirror_mode": {
    "name": "ipython",
    "version": 3
   },
   "file_extension": ".py",
   "mimetype": "text/x-python",
   "name": "python",
   "nbconvert_exporter": "python",
   "pygments_lexer": "ipython3",
   "version": "3.11.6"
  }
 },
 "nbformat": 4,
 "nbformat_minor": 5
}
